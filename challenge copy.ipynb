{
 "cells": [
  {
   "cell_type": "code",
   "execution_count": 6,
   "metadata": {},
   "outputs": [],
   "source": [
    "import redshift_connector\n",
    "import pandas as pd\n",
    "import os"
   ]
  },
  {
   "cell_type": "code",
   "execution_count": 15,
   "metadata": {},
   "outputs": [],
   "source": [
    "host = os.environ['host']\n",
    "database = os.environ['database']\n",
    "user = os.environ['user']\n",
    "password = os.environ['password']\n",
    "schema = os.environ['schema']"
   ]
  },
  {
   "cell_type": "code",
   "execution_count": 16,
   "metadata": {},
   "outputs": [],
   "source": [
    "conn = redshift_connector.connect(\n",
    "     host=host,\n",
    "     database=database,\n",
    "     user=user,\n",
    "     password=password\n",
    "  )"
   ]
  },
  {
   "cell_type": "code",
   "execution_count": 17,
   "metadata": {},
   "outputs": [],
   "source": [
    "cursor = conn.cursor()"
   ]
  },
  {
   "cell_type": "markdown",
   "metadata": {},
   "source": [
    "### 1.\tOur client Barilla would like to know how many customers purchased their pasta products during February 2020. "
   ]
  },
  {
   "cell_type": "code",
   "execution_count": null,
   "metadata": {},
   "outputs": [],
   "source": [
    "query = f\"\"\"\n",
    "SELECT COUNT(DISTINCT member_id) \n",
    "FROM {schema}.groceryorders\n",
    "WHERE\n",
    "brand = 'Barilla'\n",
    "AND\n",
    "order_date BETWEEN '2020-02-01' AND '2020-02-29'\n",
    "\"\"\""
   ]
  },
  {
   "cell_type": "code",
   "execution_count": 23,
   "metadata": {},
   "outputs": [
    {
     "data": {
      "text/html": [
       "<div>\n",
       "<style scoped>\n",
       "    .dataframe tbody tr th:only-of-type {\n",
       "        vertical-align: middle;\n",
       "    }\n",
       "\n",
       "    .dataframe tbody tr th {\n",
       "        vertical-align: top;\n",
       "    }\n",
       "\n",
       "    .dataframe thead th {\n",
       "        text-align: right;\n",
       "    }\n",
       "</style>\n",
       "<table border=\"1\" class=\"dataframe\">\n",
       "  <thead>\n",
       "    <tr style=\"text-align: right;\">\n",
       "      <th></th>\n",
       "      <th>count</th>\n",
       "    </tr>\n",
       "  </thead>\n",
       "  <tbody>\n",
       "    <tr>\n",
       "      <th>0</th>\n",
       "      <td>603</td>\n",
       "    </tr>\n",
       "  </tbody>\n",
       "</table>\n",
       "</div>"
      ],
      "text/plain": [
       "   count\n",
       "0    603"
      ]
     },
     "execution_count": 23,
     "metadata": {},
     "output_type": "execute_result"
    }
   ],
   "source": [
    "conn = redshift_connector.connect(\n",
    "     host=host,\n",
    "     database=database,\n",
    "     user=user,\n",
    "     password=password\n",
    "  )\n",
    "cursor = conn.cursor()\n",
    "cursor.execute(query)\n",
    "result = cursor.fetch_dataframe()\n",
    "result"
   ]
  },
  {
   "cell_type": "markdown",
   "metadata": {},
   "source": [
    "### 2. We would like to present the monthly grocery sales for each vendor and provide the sales in dollars and also as percentages. In addition, the following vendors should be transformed as kroger: kingSoopers, smiths, fredMeyer, frys, picknsave & ralphs. The following vendor should be considered as albertsons: safeway. "
   ]
  },
  {
   "cell_type": "code",
   "execution_count": 62,
   "metadata": {},
   "outputs": [],
   "source": [
    "query = f\"\"\"\n",
    "SELECT\n",
    "CASE\n",
    "    WHEN vendor = 'kingSoopers' THEN 'kroger'\n",
    "    WHEN vendor = 'smiths' THEN 'kroger'\n",
    "    WHEN vendor = 'fredMeyer' THEN 'kroger'\n",
    "    WHEN vendor = 'frys' THEN 'kroger'\n",
    "    WHEN vendor = 'picknsave' THEN 'kroger'\n",
    "    WHEN vendor = 'ralphs' THEN 'kroger'\n",
    "    WHEN vendor = 'safeway' THEN 'albertsons'\n",
    "    ELSE vendor\n",
    "END AS group_vendors,\n",
    "to_char(order_date, 'MM') as month_order,\n",
    "to_char(order_date, 'YYYY') as year_date,\n",
    "SUM(cost) as total_cost,\n",
    "SUM(cost) * 100 / SUM(SUM(cost)) OVER(PARTITION BY month_order,year_date ) AS percentage_cost\n",
    "FROM {schema}.groceryorders\n",
    "GROUP BY\n",
    "group_vendors,\n",
    "month_order,\n",
    "year_date\n",
    "\"\"\""
   ]
  },
  {
   "cell_type": "code",
   "execution_count": 63,
   "metadata": {},
   "outputs": [
    {
     "data": {
      "text/html": [
       "<div>\n",
       "<style scoped>\n",
       "    .dataframe tbody tr th:only-of-type {\n",
       "        vertical-align: middle;\n",
       "    }\n",
       "\n",
       "    .dataframe tbody tr th {\n",
       "        vertical-align: top;\n",
       "    }\n",
       "\n",
       "    .dataframe thead th {\n",
       "        text-align: right;\n",
       "    }\n",
       "</style>\n",
       "<table border=\"1\" class=\"dataframe\">\n",
       "  <thead>\n",
       "    <tr style=\"text-align: right;\">\n",
       "      <th></th>\n",
       "      <th>group_vendors</th>\n",
       "      <th>month_order</th>\n",
       "      <th>year_date</th>\n",
       "      <th>total_cost</th>\n",
       "      <th>percentage_cost</th>\n",
       "    </tr>\n",
       "  </thead>\n",
       "  <tbody>\n",
       "    <tr>\n",
       "      <th>0</th>\n",
       "      <td>walmartGrocery</td>\n",
       "      <td>01</td>\n",
       "      <td>2020</td>\n",
       "      <td>23527.78</td>\n",
       "      <td>84.360225</td>\n",
       "    </tr>\n",
       "    <tr>\n",
       "      <th>1</th>\n",
       "      <td>instacart</td>\n",
       "      <td>01</td>\n",
       "      <td>2020</td>\n",
       "      <td>10.39</td>\n",
       "      <td>0.037254</td>\n",
       "    </tr>\n",
       "    <tr>\n",
       "      <th>2</th>\n",
       "      <td>amazonFresh</td>\n",
       "      <td>01</td>\n",
       "      <td>2020</td>\n",
       "      <td>235.44</td>\n",
       "      <td>0.844184</td>\n",
       "    </tr>\n",
       "    <tr>\n",
       "      <th>3</th>\n",
       "      <td>shipt</td>\n",
       "      <td>01</td>\n",
       "      <td>2020</td>\n",
       "      <td>1009.74</td>\n",
       "      <td>3.620482</td>\n",
       "    </tr>\n",
       "    <tr>\n",
       "      <th>4</th>\n",
       "      <td>kroger</td>\n",
       "      <td>01</td>\n",
       "      <td>2020</td>\n",
       "      <td>3106.31</td>\n",
       "      <td>11.137855</td>\n",
       "    </tr>\n",
       "    <tr>\n",
       "      <th>...</th>\n",
       "      <td>...</td>\n",
       "      <td>...</td>\n",
       "      <td>...</td>\n",
       "      <td>...</td>\n",
       "      <td>...</td>\n",
       "    </tr>\n",
       "    <tr>\n",
       "      <th>75</th>\n",
       "      <td>instacart</td>\n",
       "      <td>12</td>\n",
       "      <td>2020</td>\n",
       "      <td>524.88</td>\n",
       "      <td>9.460485</td>\n",
       "    </tr>\n",
       "    <tr>\n",
       "      <th>76</th>\n",
       "      <td>kroger</td>\n",
       "      <td>12</td>\n",
       "      <td>2020</td>\n",
       "      <td>699.01</td>\n",
       "      <td>12.599020</td>\n",
       "    </tr>\n",
       "    <tr>\n",
       "      <th>77</th>\n",
       "      <td>heb</td>\n",
       "      <td>12</td>\n",
       "      <td>2020</td>\n",
       "      <td>127.06</td>\n",
       "      <td>2.290141</td>\n",
       "    </tr>\n",
       "    <tr>\n",
       "      <th>78</th>\n",
       "      <td>amazonFresh</td>\n",
       "      <td>12</td>\n",
       "      <td>2020</td>\n",
       "      <td>102.52</td>\n",
       "      <td>1.847830</td>\n",
       "    </tr>\n",
       "    <tr>\n",
       "      <th>79</th>\n",
       "      <td>albertsons</td>\n",
       "      <td>12</td>\n",
       "      <td>2020</td>\n",
       "      <td>108.37</td>\n",
       "      <td>1.953271</td>\n",
       "    </tr>\n",
       "  </tbody>\n",
       "</table>\n",
       "<p>80 rows × 5 columns</p>\n",
       "</div>"
      ],
      "text/plain": [
       "     group_vendors month_order year_date  total_cost  percentage_cost\n",
       "0   walmartGrocery          01      2020    23527.78        84.360225\n",
       "1        instacart          01      2020       10.39         0.037254\n",
       "2      amazonFresh          01      2020      235.44         0.844184\n",
       "3            shipt          01      2020     1009.74         3.620482\n",
       "4           kroger          01      2020     3106.31        11.137855\n",
       "..             ...         ...       ...         ...              ...\n",
       "75       instacart          12      2020      524.88         9.460485\n",
       "76          kroger          12      2020      699.01        12.599020\n",
       "77             heb          12      2020      127.06         2.290141\n",
       "78     amazonFresh          12      2020      102.52         1.847830\n",
       "79      albertsons          12      2020      108.37         1.953271\n",
       "\n",
       "[80 rows x 5 columns]"
      ]
     },
     "execution_count": 63,
     "metadata": {},
     "output_type": "execute_result"
    }
   ],
   "source": [
    "conn = redshift_connector.connect(\n",
    "     host=host,\n",
    "     database=database,\n",
    "     user=user,\n",
    "     password=password\n",
    "  )\n",
    "cursor = conn.cursor()\n",
    "\n",
    "cursor.execute(query)\n",
    "result = cursor.fetch_dataframe()\n",
    "result"
   ]
  },
  {
   "cell_type": "code",
   "execution_count": null,
   "metadata": {},
   "outputs": [],
   "source": []
  }
 ],
 "metadata": {
  "interpreter": {
   "hash": "42835e825cbef7dd474a39d6a467558330eac367ade67d6794609ad26d99de76"
  },
  "kernelspec": {
   "display_name": "Python 3.8.10 ('emeals-challenge-9ak7lZWI')",
   "language": "python",
   "name": "python3"
  },
  "language_info": {
   "codemirror_mode": {
    "name": "ipython",
    "version": 3
   },
   "file_extension": ".py",
   "mimetype": "text/x-python",
   "name": "python",
   "nbconvert_exporter": "python",
   "pygments_lexer": "ipython3",
   "version": "3.8.10"
  },
  "orig_nbformat": 4
 },
 "nbformat": 4,
 "nbformat_minor": 2
}
